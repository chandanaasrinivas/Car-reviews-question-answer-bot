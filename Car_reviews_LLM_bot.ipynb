{
  "nbformat": 4,
  "nbformat_minor": 0,
  "metadata": {
    "colab": {
      "provenance": []
    },
    "kernelspec": {
      "name": "python3",
      "display_name": "Python 3"
    },
    "language_info": {
      "name": "python"
    }
  },
  "cells": [
    {
      "cell_type": "markdown",
      "source": [
        "### Importing libraries"
      ],
      "metadata": {
        "id": "TUJZgviLnid4"
      }
    },
    {
      "cell_type": "code",
      "execution_count": 1,
      "metadata": {
        "id": "XpbeVDabgYp1"
      },
      "outputs": [],
      "source": [
        "import pandas as pd\n",
        "import numpy as np\n",
        "import re\n",
        "import nltk\n",
        "from nltk.stem import WordNetLemmatizer\n",
        "from nltk import pos_tag\n",
        "from sklearn.metrics import pairwise_distances\n",
        "import pickle"
      ]
    },
    {
      "cell_type": "code",
      "source": [
        "import nltk\n",
        "nltk.download('punkt')"
      ],
      "metadata": {
        "colab": {
          "base_uri": "https://localhost:8080/"
        },
        "id": "jOaVxfo4jFT3",
        "outputId": "932f988c-2c46-432d-83e0-33c7adb62d7f"
      },
      "execution_count": 18,
      "outputs": [
        {
          "output_type": "stream",
          "name": "stderr",
          "text": [
            "[nltk_data] Downloading package punkt to /root/nltk_data...\n",
            "[nltk_data]   Unzipping tokenizers/punkt.zip.\n"
          ]
        },
        {
          "output_type": "execute_result",
          "data": {
            "text/plain": [
              "True"
            ]
          },
          "metadata": {},
          "execution_count": 18
        }
      ]
    },
    {
      "cell_type": "code",
      "source": [
        "import nltk\n",
        "nltk.download('averaged_perceptron_tagger')\n"
      ],
      "metadata": {
        "colab": {
          "base_uri": "https://localhost:8080/"
        },
        "id": "JL15SPG0jY82",
        "outputId": "ee8aa8fb-c9d6-42d3-b47e-ca0e59d93aca"
      },
      "execution_count": 24,
      "outputs": [
        {
          "output_type": "stream",
          "name": "stderr",
          "text": [
            "[nltk_data] Downloading package averaged_perceptron_tagger to\n",
            "[nltk_data]     /root/nltk_data...\n",
            "[nltk_data]   Unzipping taggers/averaged_perceptron_tagger.zip.\n"
          ]
        },
        {
          "output_type": "execute_result",
          "data": {
            "text/plain": [
              "True"
            ]
          },
          "metadata": {},
          "execution_count": 24
        }
      ]
    },
    {
      "cell_type": "code",
      "source": [
        "nltk.download('wordnet')"
      ],
      "metadata": {
        "colab": {
          "base_uri": "https://localhost:8080/"
        },
        "id": "YoQ7j3mGjfPv",
        "outputId": "2d7f8cde-ba65-4f1d-ff85-d76ba7666fc7"
      },
      "execution_count": 26,
      "outputs": [
        {
          "output_type": "stream",
          "name": "stderr",
          "text": [
            "[nltk_data] Downloading package wordnet to /root/nltk_data...\n"
          ]
        },
        {
          "output_type": "execute_result",
          "data": {
            "text/plain": [
              "True"
            ]
          },
          "metadata": {},
          "execution_count": 26
        }
      ]
    },
    {
      "cell_type": "markdown",
      "source": [
        "### Uploading and reading data"
      ],
      "metadata": {
        "id": "NhJtOBfTnmkO"
      }
    },
    {
      "cell_type": "code",
      "source": [
        "df = pd.read_excel('/content/webscrap_hyryder.xlsx')\n",
        "df"
      ],
      "metadata": {
        "colab": {
          "base_uri": "https://localhost:8080/",
          "height": 424
        },
        "id": "sNtWLgJ7gZ6W",
        "outputId": "b54870eb-6dfe-4b45-86e3-66de6f71af77"
      },
      "execution_count": 7,
      "outputs": [
        {
          "output_type": "execute_result",
          "data": {
            "text/plain": [
              "               Name          Category  \\\n",
              "0           Vid6639  Team-BHP Support   \n",
              "1           Vid6639  Team-BHP Support   \n",
              "2           Vid6639  Team-BHP Support   \n",
              "3           Vid6639  Team-BHP Support   \n",
              "4           Vid6639  Team-BHP Support   \n",
              "...             ...               ...   \n",
              "1323       drsachin            BHPian   \n",
              "1324   shikh_oberoi            BHPian   \n",
              "1325      sriny_blr            BHPian   \n",
              "1326  ex-innova-guy            BHPian   \n",
              "1327       dhinchak            BHPian   \n",
              "\n",
              "                                                Content  \n",
              "0     2022 Toyota Urban Cruiser Hyryder Review Toyot...  \n",
              "1     Interior Cabin Design & Quality Step inside th...  \n",
              "2     Driving the Urban Cruiser Hyryder 1.5L Hybrid ...  \n",
              "3     Toyota Urban Cruiser Hyryder Exterior Images F...  \n",
              "4     Toyota Urban Cruiser Hyryder Interior Images B...  \n",
              "...                                                 ...  \n",
              "1323  Quote: Originally Posted by dhinchak Hi, Can a...  \n",
              "1324  After 14000kms of safe driving, an e rickshaw ...  \n",
              "1325  Swift to Hy(brid)Ryder; Almost all of the comp...  \n",
              "1326  Quote: Originally Posted by sriny_blr  Power ...  \n",
              "1327  Quote: Originally Posted by dhinchak Thanks, h...  \n",
              "\n",
              "[1328 rows x 3 columns]"
            ],
            "text/html": [
              "\n",
              "  <div id=\"df-6ead4d75-6484-48c8-9478-bac22a4cb31f\" class=\"colab-df-container\">\n",
              "    <div>\n",
              "<style scoped>\n",
              "    .dataframe tbody tr th:only-of-type {\n",
              "        vertical-align: middle;\n",
              "    }\n",
              "\n",
              "    .dataframe tbody tr th {\n",
              "        vertical-align: top;\n",
              "    }\n",
              "\n",
              "    .dataframe thead th {\n",
              "        text-align: right;\n",
              "    }\n",
              "</style>\n",
              "<table border=\"1\" class=\"dataframe\">\n",
              "  <thead>\n",
              "    <tr style=\"text-align: right;\">\n",
              "      <th></th>\n",
              "      <th>Name</th>\n",
              "      <th>Category</th>\n",
              "      <th>Content</th>\n",
              "    </tr>\n",
              "  </thead>\n",
              "  <tbody>\n",
              "    <tr>\n",
              "      <th>0</th>\n",
              "      <td>Vid6639</td>\n",
              "      <td>Team-BHP Support</td>\n",
              "      <td>2022 Toyota Urban Cruiser Hyryder Review Toyot...</td>\n",
              "    </tr>\n",
              "    <tr>\n",
              "      <th>1</th>\n",
              "      <td>Vid6639</td>\n",
              "      <td>Team-BHP Support</td>\n",
              "      <td>Interior Cabin Design &amp; Quality Step inside th...</td>\n",
              "    </tr>\n",
              "    <tr>\n",
              "      <th>2</th>\n",
              "      <td>Vid6639</td>\n",
              "      <td>Team-BHP Support</td>\n",
              "      <td>Driving the Urban Cruiser Hyryder 1.5L Hybrid ...</td>\n",
              "    </tr>\n",
              "    <tr>\n",
              "      <th>3</th>\n",
              "      <td>Vid6639</td>\n",
              "      <td>Team-BHP Support</td>\n",
              "      <td>Toyota Urban Cruiser Hyryder Exterior Images F...</td>\n",
              "    </tr>\n",
              "    <tr>\n",
              "      <th>4</th>\n",
              "      <td>Vid6639</td>\n",
              "      <td>Team-BHP Support</td>\n",
              "      <td>Toyota Urban Cruiser Hyryder Interior Images B...</td>\n",
              "    </tr>\n",
              "    <tr>\n",
              "      <th>...</th>\n",
              "      <td>...</td>\n",
              "      <td>...</td>\n",
              "      <td>...</td>\n",
              "    </tr>\n",
              "    <tr>\n",
              "      <th>1323</th>\n",
              "      <td>drsachin</td>\n",
              "      <td>BHPian</td>\n",
              "      <td>Quote: Originally Posted by dhinchak Hi, Can a...</td>\n",
              "    </tr>\n",
              "    <tr>\n",
              "      <th>1324</th>\n",
              "      <td>shikh_oberoi</td>\n",
              "      <td>BHPian</td>\n",
              "      <td>After 14000kms of safe driving, an e rickshaw ...</td>\n",
              "    </tr>\n",
              "    <tr>\n",
              "      <th>1325</th>\n",
              "      <td>sriny_blr</td>\n",
              "      <td>BHPian</td>\n",
              "      <td>Swift to Hy(brid)Ryder; Almost all of the comp...</td>\n",
              "    </tr>\n",
              "    <tr>\n",
              "      <th>1326</th>\n",
              "      <td>ex-innova-guy</td>\n",
              "      <td>BHPian</td>\n",
              "      <td>Quote: Originally Posted by sriny_blr  Power ...</td>\n",
              "    </tr>\n",
              "    <tr>\n",
              "      <th>1327</th>\n",
              "      <td>dhinchak</td>\n",
              "      <td>BHPian</td>\n",
              "      <td>Quote: Originally Posted by dhinchak Thanks, h...</td>\n",
              "    </tr>\n",
              "  </tbody>\n",
              "</table>\n",
              "<p>1328 rows × 3 columns</p>\n",
              "</div>\n",
              "    <div class=\"colab-df-buttons\">\n",
              "\n",
              "  <div class=\"colab-df-container\">\n",
              "    <button class=\"colab-df-convert\" onclick=\"convertToInteractive('df-6ead4d75-6484-48c8-9478-bac22a4cb31f')\"\n",
              "            title=\"Convert this dataframe to an interactive table.\"\n",
              "            style=\"display:none;\">\n",
              "\n",
              "  <svg xmlns=\"http://www.w3.org/2000/svg\" height=\"24px\" viewBox=\"0 -960 960 960\">\n",
              "    <path d=\"M120-120v-720h720v720H120Zm60-500h600v-160H180v160Zm220 220h160v-160H400v160Zm0 220h160v-160H400v160ZM180-400h160v-160H180v160Zm440 0h160v-160H620v160ZM180-180h160v-160H180v160Zm440 0h160v-160H620v160Z\"/>\n",
              "  </svg>\n",
              "    </button>\n",
              "\n",
              "  <style>\n",
              "    .colab-df-container {\n",
              "      display:flex;\n",
              "      gap: 12px;\n",
              "    }\n",
              "\n",
              "    .colab-df-convert {\n",
              "      background-color: #E8F0FE;\n",
              "      border: none;\n",
              "      border-radius: 50%;\n",
              "      cursor: pointer;\n",
              "      display: none;\n",
              "      fill: #1967D2;\n",
              "      height: 32px;\n",
              "      padding: 0 0 0 0;\n",
              "      width: 32px;\n",
              "    }\n",
              "\n",
              "    .colab-df-convert:hover {\n",
              "      background-color: #E2EBFA;\n",
              "      box-shadow: 0px 1px 2px rgba(60, 64, 67, 0.3), 0px 1px 3px 1px rgba(60, 64, 67, 0.15);\n",
              "      fill: #174EA6;\n",
              "    }\n",
              "\n",
              "    .colab-df-buttons div {\n",
              "      margin-bottom: 4px;\n",
              "    }\n",
              "\n",
              "    [theme=dark] .colab-df-convert {\n",
              "      background-color: #3B4455;\n",
              "      fill: #D2E3FC;\n",
              "    }\n",
              "\n",
              "    [theme=dark] .colab-df-convert:hover {\n",
              "      background-color: #434B5C;\n",
              "      box-shadow: 0px 1px 3px 1px rgba(0, 0, 0, 0.15);\n",
              "      filter: drop-shadow(0px 1px 2px rgba(0, 0, 0, 0.3));\n",
              "      fill: #FFFFFF;\n",
              "    }\n",
              "  </style>\n",
              "\n",
              "    <script>\n",
              "      const buttonEl =\n",
              "        document.querySelector('#df-6ead4d75-6484-48c8-9478-bac22a4cb31f button.colab-df-convert');\n",
              "      buttonEl.style.display =\n",
              "        google.colab.kernel.accessAllowed ? 'block' : 'none';\n",
              "\n",
              "      async function convertToInteractive(key) {\n",
              "        const element = document.querySelector('#df-6ead4d75-6484-48c8-9478-bac22a4cb31f');\n",
              "        const dataTable =\n",
              "          await google.colab.kernel.invokeFunction('convertToInteractive',\n",
              "                                                    [key], {});\n",
              "        if (!dataTable) return;\n",
              "\n",
              "        const docLinkHtml = 'Like what you see? Visit the ' +\n",
              "          '<a target=\"_blank\" href=https://colab.research.google.com/notebooks/data_table.ipynb>data table notebook</a>'\n",
              "          + ' to learn more about interactive tables.';\n",
              "        element.innerHTML = '';\n",
              "        dataTable['output_type'] = 'display_data';\n",
              "        await google.colab.output.renderOutput(dataTable, element);\n",
              "        const docLink = document.createElement('div');\n",
              "        docLink.innerHTML = docLinkHtml;\n",
              "        element.appendChild(docLink);\n",
              "      }\n",
              "    </script>\n",
              "  </div>\n",
              "\n",
              "\n",
              "<div id=\"df-3e7556a0-d2b9-4f2d-97f5-4cbb5ab90084\">\n",
              "  <button class=\"colab-df-quickchart\" onclick=\"quickchart('df-3e7556a0-d2b9-4f2d-97f5-4cbb5ab90084')\"\n",
              "            title=\"Suggest charts\"\n",
              "            style=\"display:none;\">\n",
              "\n",
              "<svg xmlns=\"http://www.w3.org/2000/svg\" height=\"24px\"viewBox=\"0 0 24 24\"\n",
              "     width=\"24px\">\n",
              "    <g>\n",
              "        <path d=\"M19 3H5c-1.1 0-2 .9-2 2v14c0 1.1.9 2 2 2h14c1.1 0 2-.9 2-2V5c0-1.1-.9-2-2-2zM9 17H7v-7h2v7zm4 0h-2V7h2v10zm4 0h-2v-4h2v4z\"/>\n",
              "    </g>\n",
              "</svg>\n",
              "  </button>\n",
              "\n",
              "<style>\n",
              "  .colab-df-quickchart {\n",
              "      --bg-color: #E8F0FE;\n",
              "      --fill-color: #1967D2;\n",
              "      --hover-bg-color: #E2EBFA;\n",
              "      --hover-fill-color: #174EA6;\n",
              "      --disabled-fill-color: #AAA;\n",
              "      --disabled-bg-color: #DDD;\n",
              "  }\n",
              "\n",
              "  [theme=dark] .colab-df-quickchart {\n",
              "      --bg-color: #3B4455;\n",
              "      --fill-color: #D2E3FC;\n",
              "      --hover-bg-color: #434B5C;\n",
              "      --hover-fill-color: #FFFFFF;\n",
              "      --disabled-bg-color: #3B4455;\n",
              "      --disabled-fill-color: #666;\n",
              "  }\n",
              "\n",
              "  .colab-df-quickchart {\n",
              "    background-color: var(--bg-color);\n",
              "    border: none;\n",
              "    border-radius: 50%;\n",
              "    cursor: pointer;\n",
              "    display: none;\n",
              "    fill: var(--fill-color);\n",
              "    height: 32px;\n",
              "    padding: 0;\n",
              "    width: 32px;\n",
              "  }\n",
              "\n",
              "  .colab-df-quickchart:hover {\n",
              "    background-color: var(--hover-bg-color);\n",
              "    box-shadow: 0 1px 2px rgba(60, 64, 67, 0.3), 0 1px 3px 1px rgba(60, 64, 67, 0.15);\n",
              "    fill: var(--button-hover-fill-color);\n",
              "  }\n",
              "\n",
              "  .colab-df-quickchart-complete:disabled,\n",
              "  .colab-df-quickchart-complete:disabled:hover {\n",
              "    background-color: var(--disabled-bg-color);\n",
              "    fill: var(--disabled-fill-color);\n",
              "    box-shadow: none;\n",
              "  }\n",
              "\n",
              "  .colab-df-spinner {\n",
              "    border: 2px solid var(--fill-color);\n",
              "    border-color: transparent;\n",
              "    border-bottom-color: var(--fill-color);\n",
              "    animation:\n",
              "      spin 1s steps(1) infinite;\n",
              "  }\n",
              "\n",
              "  @keyframes spin {\n",
              "    0% {\n",
              "      border-color: transparent;\n",
              "      border-bottom-color: var(--fill-color);\n",
              "      border-left-color: var(--fill-color);\n",
              "    }\n",
              "    20% {\n",
              "      border-color: transparent;\n",
              "      border-left-color: var(--fill-color);\n",
              "      border-top-color: var(--fill-color);\n",
              "    }\n",
              "    30% {\n",
              "      border-color: transparent;\n",
              "      border-left-color: var(--fill-color);\n",
              "      border-top-color: var(--fill-color);\n",
              "      border-right-color: var(--fill-color);\n",
              "    }\n",
              "    40% {\n",
              "      border-color: transparent;\n",
              "      border-right-color: var(--fill-color);\n",
              "      border-top-color: var(--fill-color);\n",
              "    }\n",
              "    60% {\n",
              "      border-color: transparent;\n",
              "      border-right-color: var(--fill-color);\n",
              "    }\n",
              "    80% {\n",
              "      border-color: transparent;\n",
              "      border-right-color: var(--fill-color);\n",
              "      border-bottom-color: var(--fill-color);\n",
              "    }\n",
              "    90% {\n",
              "      border-color: transparent;\n",
              "      border-bottom-color: var(--fill-color);\n",
              "    }\n",
              "  }\n",
              "</style>\n",
              "\n",
              "  <script>\n",
              "    async function quickchart(key) {\n",
              "      const quickchartButtonEl =\n",
              "        document.querySelector('#' + key + ' button');\n",
              "      quickchartButtonEl.disabled = true;  // To prevent multiple clicks.\n",
              "      quickchartButtonEl.classList.add('colab-df-spinner');\n",
              "      try {\n",
              "        const charts = await google.colab.kernel.invokeFunction(\n",
              "            'suggestCharts', [key], {});\n",
              "      } catch (error) {\n",
              "        console.error('Error during call to suggestCharts:', error);\n",
              "      }\n",
              "      quickchartButtonEl.classList.remove('colab-df-spinner');\n",
              "      quickchartButtonEl.classList.add('colab-df-quickchart-complete');\n",
              "    }\n",
              "    (() => {\n",
              "      let quickchartButtonEl =\n",
              "        document.querySelector('#df-3e7556a0-d2b9-4f2d-97f5-4cbb5ab90084 button');\n",
              "      quickchartButtonEl.style.display =\n",
              "        google.colab.kernel.accessAllowed ? 'block' : 'none';\n",
              "    })();\n",
              "  </script>\n",
              "</div>\n",
              "    </div>\n",
              "  </div>\n"
            ],
            "application/vnd.google.colaboratory.intrinsic+json": {
              "type": "dataframe",
              "variable_name": "df",
              "summary": "{\n  \"name\": \"df\",\n  \"rows\": 1328,\n  \"fields\": [\n    {\n      \"column\": \"Name\",\n      \"properties\": {\n        \"dtype\": \"category\",\n        \"num_unique_values\": 328,\n        \"samples\": [\n          \"parattai\",\n          \"Javelin\",\n          \"ZSFury\"\n        ],\n        \"semantic_type\": \"\",\n        \"description\": \"\"\n      }\n    },\n    {\n      \"column\": \"Category\",\n      \"properties\": {\n        \"dtype\": \"category\",\n        \"num_unique_values\": 6,\n        \"samples\": [\n          \"Team-BHP Support\",\n          \"BHPian\",\n          \"BANNED\"\n        ],\n        \"semantic_type\": \"\",\n        \"description\": \"\"\n      }\n    },\n    {\n      \"column\": \"Content\",\n      \"properties\": {\n        \"dtype\": \"string\",\n        \"num_unique_values\": 1328,\n        \"samples\": [\n          \"Quote: Originally Posted by jacobsam Is it possible to say remap the strong hybrid to address the slow engine response and what could be adverse effects it could have to the car? Did anyone try doing it? TIA Possibilities would definitely be there but why would anyone spend so much and then plan a remap? I've driven the Grand Vitara Strong Hybrid and it's not a lazy performer, atleast within the city like Gurgaon. Who knows, remapping it may throw some hybrid system errors? If someone is investing in a vehicle, it's always prudent to take a good test drive. If the dealership doesn't allow, shift to another dealer, go to some other city to test drive but the drive should be in conditions daily faced during the drive. If it's my vehicle, I'll definitely not tinker with the engine.\",\n          \"Quote: Originally Posted by Durango Dude Full EV's alone are a long way off, with the primitive grid system which can't handle A/C load in summer and trips, just think what will happen if even the EV population sees a spurt of 15-20% suddenly, it'll just collapse and the absolute \\\"opaque\\\" meter system at least in Chennai, we've been taken for a ride even during Covid, where the person who jots down readin inflates it and we were running from pillar to post to appeal for a reduction to no avail. The way forward for India is to incentivize the Full Hybrid instead of leap frogging to Full EV's which most probably our grids will not support. Yes, I agree when you say that the battery size and fuel savings must be confirmed by an independent Govt agency and then make it to the market. GST is not the 10 commandments it's changes or increases every month bringing newer and newer stuff into it's ambit so the Govt can't milk the udders till they bleed. Didn't mention anything about EVs in my post. Just Maruti's past behavior abusing hybrid-related tax exemptions where they didn't even bother providing a battery before calling their cars hybrid which resulted in the entire industry losing out on hybrid-related tax benefits. Hybrid as far as Maruti/Toyota is concerned is a technology to boost fuel efficiency and nothing else. This type of technology doesn't deserve any tax relief unless we provide similar tax relief to all fuel efficiency improvements in ICE cars. Just like GST is not the 10 commandments, we can't wait forever for monopoly discoms to magically improve the grid. There is no reason for them to do it because they don't have any competition. EVs will take off whether the grid is ready or not because India provides the biggest tax delta between ICE and EVs. We are seeing it already with 2Ws. If not for the supply chain constraints, we would've seen it in 4Ws as well. EVs have been growing exponentially in the last 2 years in India, not sure where you are getting info that another 20% increase will destroy grids.\",\n          \"Hyryder or Seltos Looking to upgrade from Grand i10. Budget around 16 lakhs OTR. Went to Lanson Toyoto showroom on ECR today to enquire about the S AT Neodrive variant.Being a Sunday only one sales person was available.No crowd. But the S variant was not there.Only a G variant was available in cave black colour. Me and wife liked the vehicle.Being on the wrong side of 60,the automatic being a torque converter appealed to me the most.The next thing I wanted to check was the back seat comfort.One major complaint in this vehicle I often hear on social media and wad in TeamBHP is the back seat head room. I am a tad above 5'10\\\" and in shoes I am stand nearly 6 feet.But I found the head room very adequate.The back seat did not give us any claustrophobic effect.The interior in the front was passable.Not able to avoid the feel that we were inside a Maruti.Driver side switches could have been really improved.Bonnet was clearly visible from the driver seat.Boot space was decent.It was obvious that the front doors were stronger than the back ones.A few taps on both the doors will make you aware of this.Realky don't know why these sort of compromises are being made by the manufacturers. I asked about adding alloys, changing the halogen to LED,fixing a 360 degree camera and changing to a bigger display.He advised not to go for a bigger display and the OEM one is adequate.Other things he readily agreed and quoted the below prices. 1.Alloys-16k/per wheel(I felt this was on a higher side) 2.Changing to LED headlights-10k. 3.360 degree camera-20 to 25k.(Does this cost this much in after market too?) 4.Bigger display-25 to 35k.(whew!). Waiting period quoted was 3 to 5 months. May test drive it in a few days. Then we visited Capital Kia in Adyar.Wanted to have a look at the HTk Plus IMT variant. In this vehicle I felt the roof being nearer to my head from the driving position.This is the second time I am having a look at the Seltos.We felt the room for 3 persons was slightly more than the Hyryder.But here the sales person said they won't change the halogen to LED and said the OEM headlights are enough.But in the market report the biggest complaint is the inadequate light throw in the HTk variant.The vehicle already has alloy wheels. Both the vehicles will have good road presence. When comparing the above vehicles in these particular variants these are the points to be noted. Hyryder. 17 inch wheels(But no alloys). Safety rating is expected to be at least 4 stars. Torque Converter Auto. Being an hybrid,will give more mileage than Seltos. GC is 210mm. All disc brakes. Dealer says a few accessories can be upgraded at the showroom itself. Wearing Toyota badge.(Though its a Maruti in disguise ) Default warranty for 3 years or one lakh kms. Extended Warranty for 31k-5 years or 2 lakh kms. From third service,we have to shell out 4 to 5 k. Seltos HTk Plus IMT. Alloy wheel(R16 compared to R17in UC.) 6 air bags.(Only two in UC) Sun Roof(Not in UC) All disc brakes. Bigger display. Being an IMT, more control? Can wait for the arrival of facelift this year. Default warranty-3 years with unlimited kms. I read a lot that this has an unstable shell.(Told by GNCAP?).That's a concern. Having said that,I am a sedate driver and most of my driving will be within Chennai.Even on highway I may not reach more than 90. I am leaving India by April and will be back only in September. I want to part with my much loved Grand i10 before leaving. So when I come back I can't afgord to wait to get a car home.Given up two wheeler riding and a vehicle is must in the household.So before leaving i want to book a car,so that I can take delivery once I come back. It is going to be a toss up between the above two.Will be immensely great full for any suggestions between the above two or any other car.Mostly this may be the last car I may be buying. Wanted go for either Kushaq or VW Virtus.(Seeing great reviews for Virtus).Kushaq AT is beyond my budget.As far as Virtus is concerned ingress and egress is a major concern for a person like me,who isn't getting any younger. TIA.\"\n        ],\n        \"semantic_type\": \"\",\n        \"description\": \"\"\n      }\n    }\n  ]\n}"
            }
          },
          "metadata": {},
          "execution_count": 7
        }
      ]
    },
    {
      "cell_type": "markdown",
      "source": [
        "### Text normalization"
      ],
      "metadata": {
        "id": "8Wb1bsadnrcy"
      }
    },
    {
      "cell_type": "code",
      "source": [
        "# Initialize lemmatizer\n",
        "lemmatizer = WordNetLemmatizer()"
      ],
      "metadata": {
        "id": "1_JuU-pigt7Q"
      },
      "execution_count": 3,
      "outputs": []
    },
    {
      "cell_type": "code",
      "source": [
        "# Text Normalization\n",
        "def text_normalization(text):\n",
        "    lema_sent = []\n",
        "    try :\n",
        "        pre_text = text.lower()\n",
        "        words = re.sub(r'[^a-z0-9]',\" \",pre_text)\n",
        "        tag_list = pos_tag(nltk.word_tokenize(words),tagset=None)\n",
        "        for token, pos_token in tag_list:\n",
        "            if pos_token.startswith(\"V\"):\n",
        "                pos_val = \"v\"\n",
        "            elif pos_token.startswith(\"J\"):\n",
        "                pos_val = \"a\"\n",
        "            elif pos_token.startswith(\"R\"):\n",
        "                pos_val = \"r\"\n",
        "            else:\n",
        "                pos_val = \"n\"\n",
        "            lema_token = lemmatizer.lemmatize(token,pos_val)\n",
        "            lema_sent.append(lema_token)\n",
        "        return \" \".join(lema_sent)\n",
        "    except:\n",
        "        pass"
      ],
      "metadata": {
        "id": "6--5W-SjgyYt"
      },
      "execution_count": 27,
      "outputs": []
    },
    {
      "cell_type": "code",
      "source": [
        "lemmatized_df = text_normalization(df['Content'][1326])"
      ],
      "metadata": {
        "id": "6LuDRl0mg2-Y"
      },
      "execution_count": 28,
      "outputs": []
    },
    {
      "cell_type": "code",
      "source": [
        "print(lemmatized_df)"
      ],
      "metadata": {
        "colab": {
          "base_uri": "https://localhost:8080/"
        },
        "id": "4VY6TfTRg6sV",
        "outputId": "be9d3380-ae8b-4341-86ca-3a9425b90e17"
      },
      "execution_count": 29,
      "outputs": [
        {
          "output_type": "stream",
          "name": "stdout",
          "text": [
            "quote originally post by sriny blr power windows button though looks same a swfit the operation be very smooth in hyryder thank goodness the door doesn t vibrate when window roll up down unlike my swift interest i never felt this in my innova but can feel the mechanism in the hyryder whenever i operate the driver side window quote door atleast driver side doesn t auto unlock when i shut the engine not sure if there be an option to change this you can change it by go in set mode by follow step long press the right side knob of the speedometer turn the same knob to right or leave for navigate through the menu go into door lock setting and there will be an option to auto unlock when ignition be turn off even i find this feature very annoy since i have to always manually unlock all door but not anymore quote yet to understand or need more clarity there be button provide for traction control doesn t seem to make much of a difference not sure by what you mean here but when the car be stationary you can long press the traction control button to turn it on or off\n"
          ]
        }
      ]
    },
    {
      "cell_type": "code",
      "source": [
        "df['lemmatized_text'] = df['Content'].apply(text_normalization)"
      ],
      "metadata": {
        "id": "e7h_lXL8hTf3"
      },
      "execution_count": 30,
      "outputs": []
    },
    {
      "cell_type": "code",
      "source": [
        "df.head()"
      ],
      "metadata": {
        "colab": {
          "base_uri": "https://localhost:8080/",
          "height": 206
        },
        "id": "fccol1GCh95-",
        "outputId": "baea0add-f94f-4117-e423-c59cc2264dbf"
      },
      "execution_count": 31,
      "outputs": [
        {
          "output_type": "execute_result",
          "data": {
            "text/plain": [
              "      Name          Category  \\\n",
              "0  Vid6639  Team-BHP Support   \n",
              "1  Vid6639  Team-BHP Support   \n",
              "2  Vid6639  Team-BHP Support   \n",
              "3  Vid6639  Team-BHP Support   \n",
              "4  Vid6639  Team-BHP Support   \n",
              "\n",
              "                                             Content  \\\n",
              "0  2022 Toyota Urban Cruiser Hyryder Review Toyot...   \n",
              "1  Interior Cabin Design & Quality Step inside th...   \n",
              "2  Driving the Urban Cruiser Hyryder 1.5L Hybrid ...   \n",
              "3  Toyota Urban Cruiser Hyryder Exterior Images F...   \n",
              "4  Toyota Urban Cruiser Hyryder Interior Images B...   \n",
              "\n",
              "                                     lemmatized_text  \n",
              "0  2022 toyota urban cruiser hyryder review toyot...  \n",
              "1  interior cabin design quality step inside the ...  \n",
              "2  drive the urban cruiser hyryder 1 5l hybrid to...  \n",
              "3  toyota urban cruiser hyryder exterior image fr...  \n",
              "4  toyota urban cruiser hyryder interior image bl...  "
            ],
            "text/html": [
              "\n",
              "  <div id=\"df-5297b887-1e7e-4dc4-9645-8f811358e861\" class=\"colab-df-container\">\n",
              "    <div>\n",
              "<style scoped>\n",
              "    .dataframe tbody tr th:only-of-type {\n",
              "        vertical-align: middle;\n",
              "    }\n",
              "\n",
              "    .dataframe tbody tr th {\n",
              "        vertical-align: top;\n",
              "    }\n",
              "\n",
              "    .dataframe thead th {\n",
              "        text-align: right;\n",
              "    }\n",
              "</style>\n",
              "<table border=\"1\" class=\"dataframe\">\n",
              "  <thead>\n",
              "    <tr style=\"text-align: right;\">\n",
              "      <th></th>\n",
              "      <th>Name</th>\n",
              "      <th>Category</th>\n",
              "      <th>Content</th>\n",
              "      <th>lemmatized_text</th>\n",
              "    </tr>\n",
              "  </thead>\n",
              "  <tbody>\n",
              "    <tr>\n",
              "      <th>0</th>\n",
              "      <td>Vid6639</td>\n",
              "      <td>Team-BHP Support</td>\n",
              "      <td>2022 Toyota Urban Cruiser Hyryder Review Toyot...</td>\n",
              "      <td>2022 toyota urban cruiser hyryder review toyot...</td>\n",
              "    </tr>\n",
              "    <tr>\n",
              "      <th>1</th>\n",
              "      <td>Vid6639</td>\n",
              "      <td>Team-BHP Support</td>\n",
              "      <td>Interior Cabin Design &amp; Quality Step inside th...</td>\n",
              "      <td>interior cabin design quality step inside the ...</td>\n",
              "    </tr>\n",
              "    <tr>\n",
              "      <th>2</th>\n",
              "      <td>Vid6639</td>\n",
              "      <td>Team-BHP Support</td>\n",
              "      <td>Driving the Urban Cruiser Hyryder 1.5L Hybrid ...</td>\n",
              "      <td>drive the urban cruiser hyryder 1 5l hybrid to...</td>\n",
              "    </tr>\n",
              "    <tr>\n",
              "      <th>3</th>\n",
              "      <td>Vid6639</td>\n",
              "      <td>Team-BHP Support</td>\n",
              "      <td>Toyota Urban Cruiser Hyryder Exterior Images F...</td>\n",
              "      <td>toyota urban cruiser hyryder exterior image fr...</td>\n",
              "    </tr>\n",
              "    <tr>\n",
              "      <th>4</th>\n",
              "      <td>Vid6639</td>\n",
              "      <td>Team-BHP Support</td>\n",
              "      <td>Toyota Urban Cruiser Hyryder Interior Images B...</td>\n",
              "      <td>toyota urban cruiser hyryder interior image bl...</td>\n",
              "    </tr>\n",
              "  </tbody>\n",
              "</table>\n",
              "</div>\n",
              "    <div class=\"colab-df-buttons\">\n",
              "\n",
              "  <div class=\"colab-df-container\">\n",
              "    <button class=\"colab-df-convert\" onclick=\"convertToInteractive('df-5297b887-1e7e-4dc4-9645-8f811358e861')\"\n",
              "            title=\"Convert this dataframe to an interactive table.\"\n",
              "            style=\"display:none;\">\n",
              "\n",
              "  <svg xmlns=\"http://www.w3.org/2000/svg\" height=\"24px\" viewBox=\"0 -960 960 960\">\n",
              "    <path d=\"M120-120v-720h720v720H120Zm60-500h600v-160H180v160Zm220 220h160v-160H400v160Zm0 220h160v-160H400v160ZM180-400h160v-160H180v160Zm440 0h160v-160H620v160ZM180-180h160v-160H180v160Zm440 0h160v-160H620v160Z\"/>\n",
              "  </svg>\n",
              "    </button>\n",
              "\n",
              "  <style>\n",
              "    .colab-df-container {\n",
              "      display:flex;\n",
              "      gap: 12px;\n",
              "    }\n",
              "\n",
              "    .colab-df-convert {\n",
              "      background-color: #E8F0FE;\n",
              "      border: none;\n",
              "      border-radius: 50%;\n",
              "      cursor: pointer;\n",
              "      display: none;\n",
              "      fill: #1967D2;\n",
              "      height: 32px;\n",
              "      padding: 0 0 0 0;\n",
              "      width: 32px;\n",
              "    }\n",
              "\n",
              "    .colab-df-convert:hover {\n",
              "      background-color: #E2EBFA;\n",
              "      box-shadow: 0px 1px 2px rgba(60, 64, 67, 0.3), 0px 1px 3px 1px rgba(60, 64, 67, 0.15);\n",
              "      fill: #174EA6;\n",
              "    }\n",
              "\n",
              "    .colab-df-buttons div {\n",
              "      margin-bottom: 4px;\n",
              "    }\n",
              "\n",
              "    [theme=dark] .colab-df-convert {\n",
              "      background-color: #3B4455;\n",
              "      fill: #D2E3FC;\n",
              "    }\n",
              "\n",
              "    [theme=dark] .colab-df-convert:hover {\n",
              "      background-color: #434B5C;\n",
              "      box-shadow: 0px 1px 3px 1px rgba(0, 0, 0, 0.15);\n",
              "      filter: drop-shadow(0px 1px 2px rgba(0, 0, 0, 0.3));\n",
              "      fill: #FFFFFF;\n",
              "    }\n",
              "  </style>\n",
              "\n",
              "    <script>\n",
              "      const buttonEl =\n",
              "        document.querySelector('#df-5297b887-1e7e-4dc4-9645-8f811358e861 button.colab-df-convert');\n",
              "      buttonEl.style.display =\n",
              "        google.colab.kernel.accessAllowed ? 'block' : 'none';\n",
              "\n",
              "      async function convertToInteractive(key) {\n",
              "        const element = document.querySelector('#df-5297b887-1e7e-4dc4-9645-8f811358e861');\n",
              "        const dataTable =\n",
              "          await google.colab.kernel.invokeFunction('convertToInteractive',\n",
              "                                                    [key], {});\n",
              "        if (!dataTable) return;\n",
              "\n",
              "        const docLinkHtml = 'Like what you see? Visit the ' +\n",
              "          '<a target=\"_blank\" href=https://colab.research.google.com/notebooks/data_table.ipynb>data table notebook</a>'\n",
              "          + ' to learn more about interactive tables.';\n",
              "        element.innerHTML = '';\n",
              "        dataTable['output_type'] = 'display_data';\n",
              "        await google.colab.output.renderOutput(dataTable, element);\n",
              "        const docLink = document.createElement('div');\n",
              "        docLink.innerHTML = docLinkHtml;\n",
              "        element.appendChild(docLink);\n",
              "      }\n",
              "    </script>\n",
              "  </div>\n",
              "\n",
              "\n",
              "<div id=\"df-42591ed8-14a4-4d44-84ba-889cf553d400\">\n",
              "  <button class=\"colab-df-quickchart\" onclick=\"quickchart('df-42591ed8-14a4-4d44-84ba-889cf553d400')\"\n",
              "            title=\"Suggest charts\"\n",
              "            style=\"display:none;\">\n",
              "\n",
              "<svg xmlns=\"http://www.w3.org/2000/svg\" height=\"24px\"viewBox=\"0 0 24 24\"\n",
              "     width=\"24px\">\n",
              "    <g>\n",
              "        <path d=\"M19 3H5c-1.1 0-2 .9-2 2v14c0 1.1.9 2 2 2h14c1.1 0 2-.9 2-2V5c0-1.1-.9-2-2-2zM9 17H7v-7h2v7zm4 0h-2V7h2v10zm4 0h-2v-4h2v4z\"/>\n",
              "    </g>\n",
              "</svg>\n",
              "  </button>\n",
              "\n",
              "<style>\n",
              "  .colab-df-quickchart {\n",
              "      --bg-color: #E8F0FE;\n",
              "      --fill-color: #1967D2;\n",
              "      --hover-bg-color: #E2EBFA;\n",
              "      --hover-fill-color: #174EA6;\n",
              "      --disabled-fill-color: #AAA;\n",
              "      --disabled-bg-color: #DDD;\n",
              "  }\n",
              "\n",
              "  [theme=dark] .colab-df-quickchart {\n",
              "      --bg-color: #3B4455;\n",
              "      --fill-color: #D2E3FC;\n",
              "      --hover-bg-color: #434B5C;\n",
              "      --hover-fill-color: #FFFFFF;\n",
              "      --disabled-bg-color: #3B4455;\n",
              "      --disabled-fill-color: #666;\n",
              "  }\n",
              "\n",
              "  .colab-df-quickchart {\n",
              "    background-color: var(--bg-color);\n",
              "    border: none;\n",
              "    border-radius: 50%;\n",
              "    cursor: pointer;\n",
              "    display: none;\n",
              "    fill: var(--fill-color);\n",
              "    height: 32px;\n",
              "    padding: 0;\n",
              "    width: 32px;\n",
              "  }\n",
              "\n",
              "  .colab-df-quickchart:hover {\n",
              "    background-color: var(--hover-bg-color);\n",
              "    box-shadow: 0 1px 2px rgba(60, 64, 67, 0.3), 0 1px 3px 1px rgba(60, 64, 67, 0.15);\n",
              "    fill: var(--button-hover-fill-color);\n",
              "  }\n",
              "\n",
              "  .colab-df-quickchart-complete:disabled,\n",
              "  .colab-df-quickchart-complete:disabled:hover {\n",
              "    background-color: var(--disabled-bg-color);\n",
              "    fill: var(--disabled-fill-color);\n",
              "    box-shadow: none;\n",
              "  }\n",
              "\n",
              "  .colab-df-spinner {\n",
              "    border: 2px solid var(--fill-color);\n",
              "    border-color: transparent;\n",
              "    border-bottom-color: var(--fill-color);\n",
              "    animation:\n",
              "      spin 1s steps(1) infinite;\n",
              "  }\n",
              "\n",
              "  @keyframes spin {\n",
              "    0% {\n",
              "      border-color: transparent;\n",
              "      border-bottom-color: var(--fill-color);\n",
              "      border-left-color: var(--fill-color);\n",
              "    }\n",
              "    20% {\n",
              "      border-color: transparent;\n",
              "      border-left-color: var(--fill-color);\n",
              "      border-top-color: var(--fill-color);\n",
              "    }\n",
              "    30% {\n",
              "      border-color: transparent;\n",
              "      border-left-color: var(--fill-color);\n",
              "      border-top-color: var(--fill-color);\n",
              "      border-right-color: var(--fill-color);\n",
              "    }\n",
              "    40% {\n",
              "      border-color: transparent;\n",
              "      border-right-color: var(--fill-color);\n",
              "      border-top-color: var(--fill-color);\n",
              "    }\n",
              "    60% {\n",
              "      border-color: transparent;\n",
              "      border-right-color: var(--fill-color);\n",
              "    }\n",
              "    80% {\n",
              "      border-color: transparent;\n",
              "      border-right-color: var(--fill-color);\n",
              "      border-bottom-color: var(--fill-color);\n",
              "    }\n",
              "    90% {\n",
              "      border-color: transparent;\n",
              "      border-bottom-color: var(--fill-color);\n",
              "    }\n",
              "  }\n",
              "</style>\n",
              "\n",
              "  <script>\n",
              "    async function quickchart(key) {\n",
              "      const quickchartButtonEl =\n",
              "        document.querySelector('#' + key + ' button');\n",
              "      quickchartButtonEl.disabled = true;  // To prevent multiple clicks.\n",
              "      quickchartButtonEl.classList.add('colab-df-spinner');\n",
              "      try {\n",
              "        const charts = await google.colab.kernel.invokeFunction(\n",
              "            'suggestCharts', [key], {});\n",
              "      } catch (error) {\n",
              "        console.error('Error during call to suggestCharts:', error);\n",
              "      }\n",
              "      quickchartButtonEl.classList.remove('colab-df-spinner');\n",
              "      quickchartButtonEl.classList.add('colab-df-quickchart-complete');\n",
              "    }\n",
              "    (() => {\n",
              "      let quickchartButtonEl =\n",
              "        document.querySelector('#df-42591ed8-14a4-4d44-84ba-889cf553d400 button');\n",
              "      quickchartButtonEl.style.display =\n",
              "        google.colab.kernel.accessAllowed ? 'block' : 'none';\n",
              "    })();\n",
              "  </script>\n",
              "</div>\n",
              "    </div>\n",
              "  </div>\n"
            ],
            "application/vnd.google.colaboratory.intrinsic+json": {
              "type": "dataframe",
              "variable_name": "df",
              "summary": "{\n  \"name\": \"df\",\n  \"rows\": 1328,\n  \"fields\": [\n    {\n      \"column\": \"Name\",\n      \"properties\": {\n        \"dtype\": \"category\",\n        \"num_unique_values\": 328,\n        \"samples\": [\n          \"parattai\",\n          \"Javelin\",\n          \"ZSFury\"\n        ],\n        \"semantic_type\": \"\",\n        \"description\": \"\"\n      }\n    },\n    {\n      \"column\": \"Category\",\n      \"properties\": {\n        \"dtype\": \"category\",\n        \"num_unique_values\": 6,\n        \"samples\": [\n          \"Team-BHP Support\",\n          \"BHPian\",\n          \"BANNED\"\n        ],\n        \"semantic_type\": \"\",\n        \"description\": \"\"\n      }\n    },\n    {\n      \"column\": \"Content\",\n      \"properties\": {\n        \"dtype\": \"string\",\n        \"num_unique_values\": 1328,\n        \"samples\": [\n          \"Quote: Originally Posted by jacobsam Is it possible to say remap the strong hybrid to address the slow engine response and what could be adverse effects it could have to the car? Did anyone try doing it? TIA Possibilities would definitely be there but why would anyone spend so much and then plan a remap? I've driven the Grand Vitara Strong Hybrid and it's not a lazy performer, atleast within the city like Gurgaon. Who knows, remapping it may throw some hybrid system errors? If someone is investing in a vehicle, it's always prudent to take a good test drive. If the dealership doesn't allow, shift to another dealer, go to some other city to test drive but the drive should be in conditions daily faced during the drive. If it's my vehicle, I'll definitely not tinker with the engine.\",\n          \"Quote: Originally Posted by Durango Dude Full EV's alone are a long way off, with the primitive grid system which can't handle A/C load in summer and trips, just think what will happen if even the EV population sees a spurt of 15-20% suddenly, it'll just collapse and the absolute \\\"opaque\\\" meter system at least in Chennai, we've been taken for a ride even during Covid, where the person who jots down readin inflates it and we were running from pillar to post to appeal for a reduction to no avail. The way forward for India is to incentivize the Full Hybrid instead of leap frogging to Full EV's which most probably our grids will not support. Yes, I agree when you say that the battery size and fuel savings must be confirmed by an independent Govt agency and then make it to the market. GST is not the 10 commandments it's changes or increases every month bringing newer and newer stuff into it's ambit so the Govt can't milk the udders till they bleed. Didn't mention anything about EVs in my post. Just Maruti's past behavior abusing hybrid-related tax exemptions where they didn't even bother providing a battery before calling their cars hybrid which resulted in the entire industry losing out on hybrid-related tax benefits. Hybrid as far as Maruti/Toyota is concerned is a technology to boost fuel efficiency and nothing else. This type of technology doesn't deserve any tax relief unless we provide similar tax relief to all fuel efficiency improvements in ICE cars. Just like GST is not the 10 commandments, we can't wait forever for monopoly discoms to magically improve the grid. There is no reason for them to do it because they don't have any competition. EVs will take off whether the grid is ready or not because India provides the biggest tax delta between ICE and EVs. We are seeing it already with 2Ws. If not for the supply chain constraints, we would've seen it in 4Ws as well. EVs have been growing exponentially in the last 2 years in India, not sure where you are getting info that another 20% increase will destroy grids.\",\n          \"Hyryder or Seltos Looking to upgrade from Grand i10. Budget around 16 lakhs OTR. Went to Lanson Toyoto showroom on ECR today to enquire about the S AT Neodrive variant.Being a Sunday only one sales person was available.No crowd. But the S variant was not there.Only a G variant was available in cave black colour. Me and wife liked the vehicle.Being on the wrong side of 60,the automatic being a torque converter appealed to me the most.The next thing I wanted to check was the back seat comfort.One major complaint in this vehicle I often hear on social media and wad in TeamBHP is the back seat head room. I am a tad above 5'10\\\" and in shoes I am stand nearly 6 feet.But I found the head room very adequate.The back seat did not give us any claustrophobic effect.The interior in the front was passable.Not able to avoid the feel that we were inside a Maruti.Driver side switches could have been really improved.Bonnet was clearly visible from the driver seat.Boot space was decent.It was obvious that the front doors were stronger than the back ones.A few taps on both the doors will make you aware of this.Realky don't know why these sort of compromises are being made by the manufacturers. I asked about adding alloys, changing the halogen to LED,fixing a 360 degree camera and changing to a bigger display.He advised not to go for a bigger display and the OEM one is adequate.Other things he readily agreed and quoted the below prices. 1.Alloys-16k/per wheel(I felt this was on a higher side) 2.Changing to LED headlights-10k. 3.360 degree camera-20 to 25k.(Does this cost this much in after market too?) 4.Bigger display-25 to 35k.(whew!). Waiting period quoted was 3 to 5 months. May test drive it in a few days. Then we visited Capital Kia in Adyar.Wanted to have a look at the HTk Plus IMT variant. In this vehicle I felt the roof being nearer to my head from the driving position.This is the second time I am having a look at the Seltos.We felt the room for 3 persons was slightly more than the Hyryder.But here the sales person said they won't change the halogen to LED and said the OEM headlights are enough.But in the market report the biggest complaint is the inadequate light throw in the HTk variant.The vehicle already has alloy wheels. Both the vehicles will have good road presence. When comparing the above vehicles in these particular variants these are the points to be noted. Hyryder. 17 inch wheels(But no alloys). Safety rating is expected to be at least 4 stars. Torque Converter Auto. Being an hybrid,will give more mileage than Seltos. GC is 210mm. All disc brakes. Dealer says a few accessories can be upgraded at the showroom itself. Wearing Toyota badge.(Though its a Maruti in disguise ) Default warranty for 3 years or one lakh kms. Extended Warranty for 31k-5 years or 2 lakh kms. From third service,we have to shell out 4 to 5 k. Seltos HTk Plus IMT. Alloy wheel(R16 compared to R17in UC.) 6 air bags.(Only two in UC) Sun Roof(Not in UC) All disc brakes. Bigger display. Being an IMT, more control? Can wait for the arrival of facelift this year. Default warranty-3 years with unlimited kms. I read a lot that this has an unstable shell.(Told by GNCAP?).That's a concern. Having said that,I am a sedate driver and most of my driving will be within Chennai.Even on highway I may not reach more than 90. I am leaving India by April and will be back only in September. I want to part with my much loved Grand i10 before leaving. So when I come back I can't afgord to wait to get a car home.Given up two wheeler riding and a vehicle is must in the household.So before leaving i want to book a car,so that I can take delivery once I come back. It is going to be a toss up between the above two.Will be immensely great full for any suggestions between the above two or any other car.Mostly this may be the last car I may be buying. Wanted go for either Kushaq or VW Virtus.(Seeing great reviews for Virtus).Kushaq AT is beyond my budget.As far as Virtus is concerned ingress and egress is a major concern for a person like me,who isn't getting any younger. TIA.\"\n        ],\n        \"semantic_type\": \"\",\n        \"description\": \"\"\n      }\n    },\n    {\n      \"column\": \"lemmatized_text\",\n      \"properties\": {\n        \"dtype\": \"string\",\n        \"num_unique_values\": 1328,\n        \"samples\": [\n          \"quote originally post by jacobsam be it possible to say remap the strong hybrid to address the slow engine response and what could be adverse effect it could have to the car do anyone try do it tia possibility would definitely be there but why would anyone spend so much and then plan a remap i ve drive the grand vitara strong hybrid and it s not a lazy performer atleast within the city like gurgaon who know remapping it may throw some hybrid system error if someone be invest in a vehicle it s always prudent to take a good test drive if the dealership doesn t allow shift to another dealer go to some other city to test drive but the drive should be in condition daily face during the drive if it s my vehicle i ll definitely not tinker with the engine\",\n          \"quote originally post by durango dude full ev s alone be a long way off with the primitive grid system which can t handle a c load in summer and trip just think what will happen if even the ev population see a spurt of 15 20 suddenly it ll just collapse and the absolute opaque meter system at least in chennai we ve be take for a ride even during covid where the person who jot down readin inflate it and we be run from pillar to post to appeal for a reduction to no avail the way forward for india be to incentivize the full hybrid instead of leap frogging to full ev s which most probably our grid will not support yes i agree when you say that the battery size and fuel saving must be confirm by an independent govt agency and then make it to the market gst be not the 10 commandment it s change or increase every month bring new and new stuff into it s ambit so the govt can t milk the udder till they bleed didn t mention anything about ev in my post just maruti s past behavior abuse hybrid related tax exemption where they didn t even bother provide a battery before call their car hybrid which result in the entire industry lose out on hybrid relate tax benefit hybrid as far a maruti toyota be concern be a technology to boost fuel efficiency and nothing else this type of technology doesn t deserve any tax relief unless we provide similar tax relief to all fuel efficiency improvement in ice car just like gst be not the 10 commandment we can t wait forever for monopoly discoms to magically improve the grid there be no reason for them to do it because they don t have any competition ev will take off whether the grid be ready or not because india provide the big tax delta between ice and ev we be see it already with 2ws if not for the supply chain constraint we would ve see it in 4ws as well evs have be grow exponentially in the last 2 year in india not sure where you be get info that another 20 increase will destroy grid\",\n          \"hyryder or seltos look to upgrade from grand i10 budget around 16 lakh otr go to lanson toyoto showroom on ecr today to enquire about the s at neodrive variant be a sunday only one sale person be available no crowd but the s variant be not there only a g variant be available in cave black colour me and wife like the vehicle be on the wrong side of 60 the automatic be a torque converter appeal to me the most the next thing i want to check be the back seat comfort one major complaint in this vehicle i often hear on social medium and wad in teambhp be the back seat head room i be a tad above 5 10 and in shoe i be stand nearly 6 foot but i find the head room very adequate the back seat do not give u any claustrophobic effect the interior in the front be passable not able to avoid the feel that we be inside a maruti driver side switch could have be really improved bonnet be clearly visible from the driver seat boot space be decent it be obvious that the front door be strong than the back one a few tap on both the door will make you aware of this realky don t know why these sort of compromise be be make by the manufacturer i ask about add alloys change the halogen to lead fix a 360 degree camera and change to a big display he advise not to go for a big display and the oem one be adequate other thing he readily agree and quote the below price 1 alloy 16k per wheel i felt this be on a high side 2 change to lead headlight 10k 3 360 degree camera 20 to 25k do this cost this much in after market too 4 big display 25 to 35k whew wait period quote be 3 to 5 month may test drive it in a few day then we visit capital kia in adyar want to have a look at the htk plus imt variant in this vehicle i felt the roof be near to my head from the drive position this be the second time i be have a look at the seltos we felt the room for 3 person be slightly more than the hyryder but here the sale person say they win t change the halogen to lead and say the oem headlight be enough but in the market report the big complaint be the inadequate light throw in the htk variant the vehicle already have alloy wheel both the vehicle will have good road presence when compare the above vehicle in these particular variant these be the point to be note hyryder 17 inch wheel but no alloys safety rating be expect to be at least 4 star torque converter auto be an hybrid will give more mileage than seltos gc be 210mm all disc brake dealer say a few accessory can be upgrade at the showroom itself wear toyota badge though it a maruti in disguise default warranty for 3 year or one lakh km extend warranty for 31k 5 year or 2 lakh km from third service we have to shell out 4 to 5 k seltos htk plus imt alloy wheel r16 compare to r17in uc 6 air bag only two in uc sun roof not in uc all disc brake big display be an imt more control can wait for the arrival of facelift this year default warranty 3 year with unlimited km i read a lot that this have an unstable shell tell by gncap that s a concern have say that i be a sedate driver and most of my driving will be within chennai even on highway i may not reach more than 90 i be leave india by april and will be back only in september i want to part with my much love grand i10 before leave so when i come back i can t afgord to wait to get a car home give up two wheeler riding and a vehicle be must in the household so before leave i want to book a car so that i can take delivery once i come back it be go to be a toss up between the above two will be immensely great full for any suggestion between the above two or any other car mostly this may be the last car i may be buy want go for either kushaq or vw virtu see great review for virtu kushaq at be beyond my budget as far a virtu be concern ingress and egress be a major concern for a person like me who isn t get any young tia\"\n        ],\n        \"semantic_type\": \"\",\n        \"description\": \"\"\n      }\n    }\n  ]\n}"
            }
          },
          "metadata": {},
          "execution_count": 31
        }
      ]
    },
    {
      "cell_type": "code",
      "source": [
        "def text_normalization(text):\n",
        "    lema_sent = []\n",
        "    try:\n",
        "        pre_text = text.lower()\n",
        "        words = re.sub(r'[^a-z0-9]', \" \", pre_text)\n",
        "        tag_list = pos_tag(nltk.word_tokenize(words), tagset=None)\n",
        "        for token, pos_token in tag_list:\n",
        "            if pos_token.startswith(\"V\"):\n",
        "                pos_val = \"v\"\n",
        "            elif pos_token.startswith(\"J\"):\n",
        "                pos_val = \"a\"\n",
        "            elif pos_token.startswith(\"R\"):\n",
        "                pos_val = \"r\"\n",
        "            else:\n",
        "                pos_val = \"n\"\n",
        "            lema_token = lemmatizer.lemmatize(token, pos_val)\n",
        "            lema_sent.append(lema_token)\n",
        "        return \" \".join(lema_sent)\n",
        "    except Exception as e:\n",
        "        print(f\"Error in text normalization: {e}\")\n",
        "        return None"
      ],
      "metadata": {
        "id": "skdOeFvviCBw"
      },
      "execution_count": 22,
      "outputs": []
    },
    {
      "cell_type": "markdown",
      "source": [
        "### Text vectorisation"
      ],
      "metadata": {
        "id": "mwJ9rgPRnvel"
      }
    },
    {
      "cell_type": "code",
      "source": [
        "# After finishing the normalization of text, we should proceed to tfidf vectorization\n",
        "from sklearn.feature_extraction.text import TfidfVectorizer\n",
        "tfidf = TfidfVectorizer()"
      ],
      "metadata": {
        "id": "q6fORZIli_bo"
      },
      "execution_count": 32,
      "outputs": []
    },
    {
      "cell_type": "code",
      "source": [
        "x_tfidf = tfidf.fit_transform(df['lemmatized_text']).toarray()"
      ],
      "metadata": {
        "id": "yIdaLSHyjws8"
      },
      "execution_count": 33,
      "outputs": []
    },
    {
      "cell_type": "code",
      "source": [
        "x_tfidf"
      ],
      "metadata": {
        "colab": {
          "base_uri": "https://localhost:8080/"
        },
        "id": "iR6jf9LCjzSR",
        "outputId": "71b9db25-640c-48df-863b-45e60a01339c"
      },
      "execution_count": 34,
      "outputs": [
        {
          "output_type": "execute_result",
          "data": {
            "text/plain": [
              "array([[0., 0., 0., ..., 0., 0., 0.],\n",
              "       [0., 0., 0., ..., 0., 0., 0.],\n",
              "       [0., 0., 0., ..., 0., 0., 0.],\n",
              "       ...,\n",
              "       [0., 0., 0., ..., 0., 0., 0.],\n",
              "       [0., 0., 0., ..., 0., 0., 0.],\n",
              "       [0., 0., 0., ..., 0., 0., 0.]])"
            ]
          },
          "metadata": {},
          "execution_count": 34
        }
      ]
    },
    {
      "cell_type": "code",
      "source": [
        "def validation(x_tfidf, query_ask):\n",
        "    cos = 1-pairwise_distances(x_tfidf, query_ask,metric='cosine')\n",
        "    ind = cos.argmax()\n",
        "    threshold = cos[ind]\n",
        "    if threshold > 0.2:\n",
        "        result = df['Content'].loc[ind]\n",
        "    else:\n",
        "        result = df['Content'].loc[51]\n",
        "    return result"
      ],
      "metadata": {
        "id": "LfhrDt0ej1Yc"
      },
      "execution_count": 37,
      "outputs": []
    },
    {
      "cell_type": "markdown",
      "source": [
        "### Response to questions"
      ],
      "metadata": {
        "id": "oUo3RVD1nzau"
      }
    },
    {
      "cell_type": "code",
      "source": [
        "user_input = input(\"Enter any message: \")\n",
        "query_ask = text_normalization(user_input)\n",
        "query_ask = tfidf.transform([query_ask]).toarray()\n",
        "response = validation(x_tfidf,query_ask)\n",
        "print(\"bot replays:\",response)"
      ],
      "metadata": {
        "colab": {
          "base_uri": "https://localhost:8080/"
        },
        "id": "SY1C2Mnuj4sj",
        "outputId": "4f611d9b-6454-4d5c-9ac0-b73b3867b23f"
      },
      "execution_count": 38,
      "outputs": [
        {
          "output_type": "stream",
          "name": "stdout",
          "text": [
            "Enter any message: How is interior cabin design?\n",
            "bot replays: Quote: Originally Posted by Vid6639  Quality of interior plastics feels more Maruti than Toyota. Frankly, the S-Cross cabin feels better in quality  Interior is narrow and doesn't feel as roomy as some competitors.  NVH levels from the drivetrain are surprisingly poor for a hybrid. Sounds from the 3-cylinder engine, electric motor and brake vacuum pump filter into the cabin. The Urban Cruiser Hyryder is more a Maruti than a Toyota. . Oustanding and detailed review as always! Please help me in comparing the above quoted part with New Brezza! w.r.t. space, NVH and Fit and Finish. I am confused between G AT Mild Hybrid and Brezza ZXI AT. If the price difference is ~ 1L\n"
          ]
        }
      ]
    },
    {
      "cell_type": "code",
      "source": [
        "user_input = input(\"Enter any message: \")\n",
        "query_ask = text_normalization(user_input)\n",
        "query_ask = tfidf.transform([query_ask]).toarray()\n",
        "response = validation(x_tfidf,query_ask)\n",
        "print(\"bot replays:\",response)"
      ],
      "metadata": {
        "colab": {
          "base_uri": "https://localhost:8080/"
        },
        "id": "X0dXkK86j7Al",
        "outputId": "5dacd293-1088-4b90-8891-0c79e1dd398b"
      },
      "execution_count": 39,
      "outputs": [
        {
          "output_type": "stream",
          "name": "stdout",
          "text": [
            "Enter any message: Price of toyota hyryder\n",
            "bot replays: Quote: Originally Posted by Ralags Are you getting it for new price as of 2023 or with old price There is no price hike announced for Hyryder yet.\n"
          ]
        }
      ]
    },
    {
      "cell_type": "code",
      "source": [
        "user_input = input(\"Enter any message: \")\n",
        "query_ask = text_normalization(user_input)\n",
        "query_ask = tfidf.transform([query_ask]).toarray()\n",
        "response = validation(x_tfidf,query_ask)\n",
        "print(\"bot replays:\",response)"
      ],
      "metadata": {
        "colab": {
          "base_uri": "https://localhost:8080/"
        },
        "id": "DH3Jb5fblCEZ",
        "outputId": "4381517c-2699-49ad-9fbd-1ce417a254cb"
      },
      "execution_count": 40,
      "outputs": [
        {
          "output_type": "stream",
          "name": "stdout",
          "text": [
            "Enter any message: Queries about battery\n",
            "bot replays: Any idea about the battery warranty for the hybrid version? If there is any problem, will they replace the battery at zero cost, or would it be on a pro rata basis like usual car batteries?\n"
          ]
        }
      ]
    },
    {
      "cell_type": "code",
      "source": [
        "user_input = input(\"Enter any message: \")\n",
        "query_ask = text_normalization(user_input)\n",
        "query_ask = tfidf.transform([query_ask]).toarray()\n",
        "response = validation(x_tfidf,query_ask)\n",
        "print(\"bot replays:\",response)\n"
      ],
      "metadata": {
        "colab": {
          "base_uri": "https://localhost:8080/"
        },
        "id": "7fI5KbWmlfOE",
        "outputId": "29d7acaa-3486-4674-84cd-b4f98505231e"
      },
      "execution_count": 42,
      "outputs": [
        {
          "output_type": "stream",
          "name": "stdout",
          "text": [
            "Enter any message: Grand vitara\n",
            "bot replays: Toyota HyRyder Vs. Maruti Suzuki's Grand Vitara pricing compared: Link\n"
          ]
        }
      ]
    },
    {
      "cell_type": "code",
      "source": [
        "user_input = input(\"Enter any message: \")\n",
        "query_ask = text_normalization(user_input)\n",
        "query_ask = tfidf.transform([query_ask]).toarray()\n",
        "response = validation(x_tfidf,query_ask)\n",
        "print(\"bot replays:\",response)"
      ],
      "metadata": {
        "colab": {
          "base_uri": "https://localhost:8080/"
        },
        "id": "Z1CwSrhUmDJl",
        "outputId": "e06cf219-c394-4702-e87e-d0eee72491f7"
      },
      "execution_count": 43,
      "outputs": [
        {
          "output_type": "stream",
          "name": "stdout",
          "text": [
            "Enter any message: grand vitara\n",
            "bot replays: Toyota HyRyder Vs. Maruti Suzuki's Grand Vitara pricing compared: Link\n"
          ]
        }
      ]
    },
    {
      "cell_type": "code",
      "source": [
        "user_input = input(\"Enter any message: \")\n",
        "query_ask = text_normalization(user_input)\n",
        "query_ask = tfidf.transform([query_ask]).toarray()\n",
        "response = validation(x_tfidf,query_ask)\n",
        "print(\"bot replays:\",response)"
      ],
      "metadata": {
        "colab": {
          "base_uri": "https://localhost:8080/"
        },
        "id": "EjoYWydZmUfV",
        "outputId": "23687c0c-f9fd-46e2-9a53-1b9aad2e710d"
      },
      "execution_count": 45,
      "outputs": [
        {
          "output_type": "stream",
          "name": "stdout",
          "text": [
            "Enter any message: All reviews on hyryder\n",
            "bot replays: Quote: Originally Posted by SumitB Can someone please confirm how much mileage can I expect from the Hyryder if I follow the above regime with the vehicle? You can check these 3 posts posted by fellow BHPians for it. 1 (Toyota Urban Cruiser Hyryder Review) 2 (Toyota Urban Cruiser Hyryder Review) 3 (Toyota Urban Cruiser Hyryder Review)\n"
          ]
        }
      ]
    },
    {
      "cell_type": "code",
      "source": [
        "user_input = input(\"Enter any message: \")\n",
        "query_ask = text_normalization(user_input)\n",
        "query_ask = tfidf.transform([query_ask]).toarray()\n",
        "response = validation(x_tfidf,query_ask)\n",
        "print(\"bot replays:\",response)"
      ],
      "metadata": {
        "colab": {
          "base_uri": "https://localhost:8080/"
        },
        "id": "E_R65cggmZB1",
        "outputId": "c77a34ef-6b25-454e-f01a-c1c9315f2f4a"
      },
      "execution_count": 46,
      "outputs": [
        {
          "output_type": "stream",
          "name": "stdout",
          "text": [
            "Enter any message: sunroof\n",
            "bot replays: Can anybody comment if front and rear headroom is any better for non sunroof variants compared to sunroof variants?\n"
          ]
        }
      ]
    },
    {
      "cell_type": "code",
      "source": [
        "user_input = input(\"Enter any message: \")\n",
        "query_ask = text_normalization(user_input)\n",
        "query_ask = tfidf.transform([query_ask]).toarray()\n",
        "response = validation(x_tfidf,query_ask)\n",
        "print(\"bot replays:\",response)"
      ],
      "metadata": {
        "colab": {
          "base_uri": "https://localhost:8080/"
        },
        "id": "X7mQmpXLnZJJ",
        "outputId": "72ab4158-7966-4283-be12-b845b0381684"
      },
      "execution_count": 47,
      "outputs": [
        {
          "output_type": "stream",
          "name": "stdout",
          "text": [
            "Enter any message: Rear\n",
            "bot replays: Quote: Originally Posted by SDx For me this is a negative, I am in the market for a compact car for the busy roads of Delhi. Rear seat is indeed small, the couple who sat in the rear seat before me were a bit on the heavier side and I was doubtful that my 8 yr old niece would fit in between them. Do you happen to know a more compact automatic vehicle with better rear seat experience?\n"
          ]
        }
      ]
    },
    {
      "cell_type": "code",
      "source": [
        "user_input = input(\"Enter any message: \")\n",
        "query_ask = text_normalization(user_input)\n",
        "query_ask = tfidf.transform([query_ask]).toarray()\n",
        "response = validation(x_tfidf,query_ask)\n",
        "print(\"bot replays:\",response)"
      ],
      "metadata": {
        "colab": {
          "base_uri": "https://localhost:8080/"
        },
        "id": "G2peqRwhoRS4",
        "outputId": "7c859d81-497f-4e50-c1a5-206b82854ca7"
      },
      "execution_count": 49,
      "outputs": [
        {
          "output_type": "stream",
          "name": "stdout",
          "text": [
            "Enter any message: horn issue\n",
            "bot replays: Has anyone tried changing their horn? Do we need to remove the whole front bumper to change the horn?\n"
          ]
        }
      ]
    },
    {
      "cell_type": "code",
      "source": [
        "user_input = input(\"Enter any message: \")\n",
        "query_ask = text_normalization(user_input)\n",
        "query_ask = tfidf.transform([query_ask]).toarray()\n",
        "response = validation(x_tfidf,query_ask)\n",
        "print(\"bot replays:\",response)"
      ],
      "metadata": {
        "colab": {
          "base_uri": "https://localhost:8080/"
        },
        "id": "504QUS8aoc_L",
        "outputId": "f757724e-aa9c-4374-f2a4-5dab764aec26"
      },
      "execution_count": 51,
      "outputs": [
        {
          "output_type": "stream",
          "name": "stdout",
          "text": [
            "Enter any message: mileage\n",
            "bot replays: For mileage refill checks, there's no need to reset it manually. You can check the mileage history, and it will display the mileage for the last five refuels.\n"
          ]
        }
      ]
    },
    {
      "cell_type": "code",
      "source": [
        "user_input = input(\"Enter any message: \")\n",
        "query_ask = text_normalization(user_input)\n",
        "query_ask = tfidf.transform([query_ask]).toarray()\n",
        "response = validation(x_tfidf,query_ask)\n",
        "print(\"bot replays:\",response)"
      ],
      "metadata": {
        "colab": {
          "base_uri": "https://localhost:8080/"
        },
        "id": "cQ31woDUqHYe",
        "outputId": "f768a4ad-1268-42f2-af31-f28b1f296dd3"
      },
      "execution_count": 55,
      "outputs": [
        {
          "output_type": "stream",
          "name": "stdout",
          "text": [
            "Enter any message: AC issues\n",
            "bot replays: Quote: Originally Posted by drsachin I have done 300kms till now , so here is my initial review.. Cons 1. AC: The summers have just started and ac feels barely adequate. Contrary to popular belief i think it's not because of the mosquito net shade but it's actually due to the Pano sunroof. It almost becomes a glass house due to big sunroof with heat entrapped beneath it. Surprised about the AC being a con. Toyota cars generally come with a chiller of an AC.\n"
          ]
        }
      ]
    },
    {
      "cell_type": "code",
      "source": [],
      "metadata": {
        "id": "KJpWCbm9qP1m"
      },
      "execution_count": null,
      "outputs": []
    }
  ]
}